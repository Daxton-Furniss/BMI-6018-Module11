{
 "cells": [
  {
   "cell_type": "code",
   "execution_count": 10,
   "id": "d28db30c",
   "metadata": {},
   "outputs": [],
   "source": [
    "import scipy\n",
    "import pandas as pd\n",
    "import Bio"
   ]
  },
  {
   "cell_type": "code",
   "execution_count": 9,
   "id": "4093cf7a",
   "metadata": {},
   "outputs": [
    {
     "data": {
      "text/html": [
       "<div>\n",
       "<style scoped>\n",
       "    .dataframe tbody tr th:only-of-type {\n",
       "        vertical-align: middle;\n",
       "    }\n",
       "\n",
       "    .dataframe tbody tr th {\n",
       "        vertical-align: top;\n",
       "    }\n",
       "\n",
       "    .dataframe thead th {\n",
       "        text-align: right;\n",
       "    }\n",
       "</style>\n",
       "<table border=\"1\" class=\"dataframe\">\n",
       "  <thead>\n",
       "    <tr style=\"text-align: right;\">\n",
       "      <th></th>\n",
       "      <th>&gt;lcl|U49845.1_cds_AAA98665.1_1 [protein=TCP1-beta] [frame=3] [protein_id=AAA98665.1] [location=&lt;1..206] [gbkey=CDS]</th>\n",
       "    </tr>\n",
       "  </thead>\n",
       "  <tbody>\n",
       "    <tr>\n",
       "      <th>0</th>\n",
       "      <td>TCCTCCATATACAACGGTATCTCCACCTCAGGTTTAGATCTCAACA...</td>\n",
       "    </tr>\n",
       "    <tr>\n",
       "      <th>1</th>\n",
       "      <td>AGTTAGGTATCGTCGAGAGTTACAAGCTAAAACGAGCAGTAGTCAG...</td>\n",
       "    </tr>\n",
       "    <tr>\n",
       "      <th>2</th>\n",
       "      <td>TCTACTAAGGGTGGATAACATCATCCGTGCAAGACCAAGAACCGCC...</td>\n",
       "    </tr>\n",
       "    <tr>\n",
       "      <th>3</th>\n",
       "      <td>&gt;lcl|U49845.1_cds_AAA98666.1_2 [gene=AXL2] [pr...</td>\n",
       "    </tr>\n",
       "    <tr>\n",
       "      <th>4</th>\n",
       "      <td>ATGACACAGCTTCAGATTTCATTATTGCTGACAGCTACTATATCAC...</td>\n",
       "    </tr>\n",
       "    <tr>\n",
       "      <th>5</th>\n",
       "      <td>CCTATGAGGCATATCCTATCGGAAAACAATACCCCCCAGTGGCAAG...</td>\n",
       "    </tr>\n",
       "    <tr>\n",
       "      <th>6</th>\n",
       "      <td>AATTTCCAATGATACCTATAAATCGTCTGTAGACAAGACAGCTCAA...</td>\n",
       "    </tr>\n",
       "    <tr>\n",
       "      <th>7</th>\n",
       "      <td>CCGAGCTGGCTTTCGTTTGACTCTAGTTCTAGAACGTTCTCAGGTG...</td>\n",
       "    </tr>\n",
       "    <tr>\n",
       "      <th>8</th>\n",
       "      <td>ATGCGAACACCACGTTGTATTTCAATGTAATACTCGAGGGTACGGA...</td>\n",
       "    </tr>\n",
       "    <tr>\n",
       "      <th>9</th>\n",
       "      <td>CAATACATACCAATTTGTTGTTACAAACCGTCCATCCATCTCGCTA...</td>\n",
       "    </tr>\n",
       "    <tr>\n",
       "      <th>10</th>\n",
       "      <td>TTGTTAAAAAACTATGGTTATACTAACGGCAAAAACGCTCTGAAAC...</td>\n",
       "    </tr>\n",
       "    <tr>\n",
       "      <th>11</th>\n",
       "      <td>TGACTTTTGACCGTTCAATGTTCACTAACGAAGAATCCATTGTGTC...</td>\n",
       "    </tr>\n",
       "    <tr>\n",
       "      <th>12</th>\n",
       "      <td>TAATGCGCCGTTACCCAATTGGCTGTTCTTCGATTCTGGCGAGTTG...</td>\n",
       "    </tr>\n",
       "    <tr>\n",
       "      <th>13</th>\n",
       "      <td>ATAAACTCGGCGATTGCTCCAGAAACAAGCTACAGTTTTGTCATCA...</td>\n",
       "    </tr>\n",
       "    <tr>\n",
       "      <th>14</th>\n",
       "      <td>CTGCCGTTGAGGTAGAATTCGAATTAGTCATCGGGGCTCACCAGTT...</td>\n",
       "    </tr>\n",
       "    <tr>\n",
       "      <th>15</th>\n",
       "      <td>GATAATCAACGTTACTGACACAGGTAACGTTTCATATGACTTACCT...</td>\n",
       "    </tr>\n",
       "    <tr>\n",
       "      <th>16</th>\n",
       "      <td>GATCCTATTTCTTCTGATAAATTGGGTTCTATAAACTTATTGGATG...</td>\n",
       "    </tr>\n",
       "    <tr>\n",
       "      <th>17</th>\n",
       "      <td>ATGCTACCATTTCCGGGTCTGTCCCAGATGAATTACTCGGTAAGAA...</td>\n",
       "    </tr>\n",
       "    <tr>\n",
       "      <th>18</th>\n",
       "      <td>GTCCATTTATGATACTTATGGTGATGTGATTTATTTCAACTTCGAA...</td>\n",
       "    </tr>\n",
       "    <tr>\n",
       "      <th>19</th>\n",
       "      <td>GCCATTAGTTCTCTTCCCAATATTAACGCTACAAGGGGTGAATGGT...</td>\n",
       "    </tr>\n",
       "    <tr>\n",
       "      <th>20</th>\n",
       "      <td>AGTTTACAGACTACGTGAATACAAACGTTTCATTAGAGTTTACTAA...</td>\n",
       "    </tr>\n",
       "    <tr>\n",
       "      <th>21</th>\n",
       "      <td>GAAATTCCAATCATCTAATTTAACATTAGCTGGAGAAGTGCCCAAG...</td>\n",
       "    </tr>\n",
       "    <tr>\n",
       "      <th>22</th>\n",
       "      <td>TTGAAAGCGAACCAAGGTTCACAATCTCAAGAGCTATATTTTAACA...</td>\n",
       "    </tr>\n",
       "    <tr>\n",
       "      <th>23</th>\n",
       "      <td>CTCACTCAAACCACAGTGCGAATGCAACGTCCACAAGAAGTTCTCA...</td>\n",
       "    </tr>\n",
       "    <tr>\n",
       "      <th>24</th>\n",
       "      <td>CACATCTTCTACTTACACTGCAAAAATTTCTTCTACCTCCGCTGCT...</td>\n",
       "    </tr>\n",
       "    <tr>\n",
       "      <th>25</th>\n",
       "      <td>CTGCCAGCAGCCAATAAAACTTCATCTCACAATAAAAAAGCAGTAG...</td>\n",
       "    </tr>\n",
       "    <tr>\n",
       "      <th>26</th>\n",
       "      <td>CATTAGGCGTTATCCTAGTAGCTCTCATTTGCTTCCTAATATTCTG...</td>\n",
       "    </tr>\n",
       "    <tr>\n",
       "      <th>27</th>\n",
       "      <td>CGATGAAAACTTACCGCATGCTATTAGTGGACCTGATTTGAATAAT...</td>\n",
       "    </tr>\n",
       "    <tr>\n",
       "      <th>28</th>\n",
       "      <td>AACGCTACACCTTTGAACAACCCCTTTGATGATGATGCTTCCTCGT...</td>\n",
       "    </tr>\n",
       "    <tr>\n",
       "      <th>29</th>\n",
       "      <td>GATTGGCTGCTTTGAACACTTTGAAATTGGATAACCACTCTGCCAC...</td>\n",
       "    </tr>\n",
       "    <tr>\n",
       "      <th>30</th>\n",
       "      <td>TGAAAAGAGAGATTCTCTATCAGGTATGAATACATACAATGATCAG...</td>\n",
       "    </tr>\n",
       "    <tr>\n",
       "      <th>31</th>\n",
       "      <td>TTATTAGCAAAACCCCCAGTACAGCCTCCAGAGAGCCCGTTCTTTG...</td>\n",
       "    </tr>\n",
       "    <tr>\n",
       "      <th>32</th>\n",
       "      <td>TGTATATGGATAGTGAACCAGCAGTAAATAAATCCTGGCGATATAC...</td>\n",
       "    </tr>\n",
       "    <tr>\n",
       "      <th>33</th>\n",
       "      <td>TATTGTCAGAGACAGTTACGGATCACAAAAAACTGTTGATACAGAA...</td>\n",
       "    </tr>\n",
       "    <tr>\n",
       "      <th>34</th>\n",
       "      <td>GAGAAGGAAAAACGTACGTCAAGGGATGTCACTATGTCTTCACTGG...</td>\n",
       "    </tr>\n",
       "    <tr>\n",
       "      <th>35</th>\n",
       "      <td>CTTCTCCCGTAAGAAAATCAGTAACACCATCACCATATAACGTAAC...</td>\n",
       "    </tr>\n",
       "    <tr>\n",
       "      <th>36</th>\n",
       "      <td>AAATATTCAAGACTCTCAAAGCGGTAAAAACGGAATCACTCCCACA...</td>\n",
       "    </tr>\n",
       "    <tr>\n",
       "      <th>37</th>\n",
       "      <td>GATTTTGTTCCGGTTAAAGATGGTGAAAATTTTTGCTGGGTCCATA...</td>\n",
       "    </tr>\n",
       "    <tr>\n",
       "      <th>38</th>\n",
       "      <td>GTAAGAAAAGGTTAGTAGATTTTTCAAATAAGAGTAATGTCAATGT...</td>\n",
       "    </tr>\n",
       "    <tr>\n",
       "      <th>39</th>\n",
       "      <td>ACGCATCCCAGAAATGCTGTGA</td>\n",
       "    </tr>\n",
       "    <tr>\n",
       "      <th>40</th>\n",
       "      <td>&gt;lcl|U49845.1_cds_AAA98667.1_3 [gene=REV7] [pr...</td>\n",
       "    </tr>\n",
       "    <tr>\n",
       "      <th>41</th>\n",
       "      <td>ATGAATAGATGGGTAGAGAAGTGGCTGAGGGTATACTTAAAATGCT...</td>\n",
       "    </tr>\n",
       "    <tr>\n",
       "      <th>42</th>\n",
       "      <td>GAAATGTATACCCACCTCAGTCATTCGACTACACTACTTACCAGTC...</td>\n",
       "    </tr>\n",
       "    <tr>\n",
       "      <th>43</th>\n",
       "      <td>CATTAATAGGCATCCTGCTTTAATTGACTATATAGAAGAACTTATA...</td>\n",
       "    </tr>\n",
       "    <tr>\n",
       "      <th>44</th>\n",
       "      <td>CACGTTTACAGATTTTCCATCTGCATTATTAATAAAAAGAACGATT...</td>\n",
       "    </tr>\n",
       "    <tr>\n",
       "      <th>45</th>\n",
       "      <td>ATTTTAGTGAATTACAACATGTGGATAAAGACGATCAGATCATTAC...</td>\n",
       "    </tr>\n",
       "    <tr>\n",
       "      <th>46</th>\n",
       "      <td>CCGATCTTCCTTAAATAGTTTGATTATGCATTTGGAGAAATTACCT...</td>\n",
       "    </tr>\n",
       "    <tr>\n",
       "      <th>47</th>\n",
       "      <td>TTTGAAGCAGTTATTAATGCGATCGAATTGGAACTAGGACATAAGT...</td>\n",
       "    </tr>\n",
       "    <tr>\n",
       "      <th>48</th>\n",
       "      <td>GTTTGGAGGAAAAAGCAGAAATTGAAAGGGATTCAAACTGGGTTAA...</td>\n",
       "    </tr>\n",
       "    <tr>\n",
       "      <th>49</th>\n",
       "      <td>AGACAATAATGGTTTTCAACCTCCTAAAATAAAACTCACTTCTTTA...</td>\n",
       "    </tr>\n",
       "    <tr>\n",
       "      <th>50</th>\n",
       "      <td>ATTATTCATCAGTTTAGTGAAAAATTAATCAGCGGTGACGACAAAA...</td>\n",
       "    </tr>\n",
       "    <tr>\n",
       "      <th>51</th>\n",
       "      <td>ATGAAGAGGGCGAGAGCATTTTTGGATCTTTGTTTTAA</td>\n",
       "    </tr>\n",
       "  </tbody>\n",
       "</table>\n",
       "</div>"
      ],
      "text/plain": [
       "   >lcl|U49845.1_cds_AAA98665.1_1 [protein=TCP1-beta] [frame=3] [protein_id=AAA98665.1] [location=<1..206] [gbkey=CDS]\n",
       "0   TCCTCCATATACAACGGTATCTCCACCTCAGGTTTAGATCTCAACA...                                                                 \n",
       "1   AGTTAGGTATCGTCGAGAGTTACAAGCTAAAACGAGCAGTAGTCAG...                                                                 \n",
       "2   TCTACTAAGGGTGGATAACATCATCCGTGCAAGACCAAGAACCGCC...                                                                 \n",
       "3   >lcl|U49845.1_cds_AAA98666.1_2 [gene=AXL2] [pr...                                                                 \n",
       "4   ATGACACAGCTTCAGATTTCATTATTGCTGACAGCTACTATATCAC...                                                                 \n",
       "5   CCTATGAGGCATATCCTATCGGAAAACAATACCCCCCAGTGGCAAG...                                                                 \n",
       "6   AATTTCCAATGATACCTATAAATCGTCTGTAGACAAGACAGCTCAA...                                                                 \n",
       "7   CCGAGCTGGCTTTCGTTTGACTCTAGTTCTAGAACGTTCTCAGGTG...                                                                 \n",
       "8   ATGCGAACACCACGTTGTATTTCAATGTAATACTCGAGGGTACGGA...                                                                 \n",
       "9   CAATACATACCAATTTGTTGTTACAAACCGTCCATCCATCTCGCTA...                                                                 \n",
       "10  TTGTTAAAAAACTATGGTTATACTAACGGCAAAAACGCTCTGAAAC...                                                                 \n",
       "11  TGACTTTTGACCGTTCAATGTTCACTAACGAAGAATCCATTGTGTC...                                                                 \n",
       "12  TAATGCGCCGTTACCCAATTGGCTGTTCTTCGATTCTGGCGAGTTG...                                                                 \n",
       "13  ATAAACTCGGCGATTGCTCCAGAAACAAGCTACAGTTTTGTCATCA...                                                                 \n",
       "14  CTGCCGTTGAGGTAGAATTCGAATTAGTCATCGGGGCTCACCAGTT...                                                                 \n",
       "15  GATAATCAACGTTACTGACACAGGTAACGTTTCATATGACTTACCT...                                                                 \n",
       "16  GATCCTATTTCTTCTGATAAATTGGGTTCTATAAACTTATTGGATG...                                                                 \n",
       "17  ATGCTACCATTTCCGGGTCTGTCCCAGATGAATTACTCGGTAAGAA...                                                                 \n",
       "18  GTCCATTTATGATACTTATGGTGATGTGATTTATTTCAACTTCGAA...                                                                 \n",
       "19  GCCATTAGTTCTCTTCCCAATATTAACGCTACAAGGGGTGAATGGT...                                                                 \n",
       "20  AGTTTACAGACTACGTGAATACAAACGTTTCATTAGAGTTTACTAA...                                                                 \n",
       "21  GAAATTCCAATCATCTAATTTAACATTAGCTGGAGAAGTGCCCAAG...                                                                 \n",
       "22  TTGAAAGCGAACCAAGGTTCACAATCTCAAGAGCTATATTTTAACA...                                                                 \n",
       "23  CTCACTCAAACCACAGTGCGAATGCAACGTCCACAAGAAGTTCTCA...                                                                 \n",
       "24  CACATCTTCTACTTACACTGCAAAAATTTCTTCTACCTCCGCTGCT...                                                                 \n",
       "25  CTGCCAGCAGCCAATAAAACTTCATCTCACAATAAAAAAGCAGTAG...                                                                 \n",
       "26  CATTAGGCGTTATCCTAGTAGCTCTCATTTGCTTCCTAATATTCTG...                                                                 \n",
       "27  CGATGAAAACTTACCGCATGCTATTAGTGGACCTGATTTGAATAAT...                                                                 \n",
       "28  AACGCTACACCTTTGAACAACCCCTTTGATGATGATGCTTCCTCGT...                                                                 \n",
       "29  GATTGGCTGCTTTGAACACTTTGAAATTGGATAACCACTCTGCCAC...                                                                 \n",
       "30  TGAAAAGAGAGATTCTCTATCAGGTATGAATACATACAATGATCAG...                                                                 \n",
       "31  TTATTAGCAAAACCCCCAGTACAGCCTCCAGAGAGCCCGTTCTTTG...                                                                 \n",
       "32  TGTATATGGATAGTGAACCAGCAGTAAATAAATCCTGGCGATATAC...                                                                 \n",
       "33  TATTGTCAGAGACAGTTACGGATCACAAAAAACTGTTGATACAGAA...                                                                 \n",
       "34  GAGAAGGAAAAACGTACGTCAAGGGATGTCACTATGTCTTCACTGG...                                                                 \n",
       "35  CTTCTCCCGTAAGAAAATCAGTAACACCATCACCATATAACGTAAC...                                                                 \n",
       "36  AAATATTCAAGACTCTCAAAGCGGTAAAAACGGAATCACTCCCACA...                                                                 \n",
       "37  GATTTTGTTCCGGTTAAAGATGGTGAAAATTTTTGCTGGGTCCATA...                                                                 \n",
       "38  GTAAGAAAAGGTTAGTAGATTTTTCAAATAAGAGTAATGTCAATGT...                                                                 \n",
       "39                             ACGCATCCCAGAAATGCTGTGA                                                                 \n",
       "40  >lcl|U49845.1_cds_AAA98667.1_3 [gene=REV7] [pr...                                                                 \n",
       "41  ATGAATAGATGGGTAGAGAAGTGGCTGAGGGTATACTTAAAATGCT...                                                                 \n",
       "42  GAAATGTATACCCACCTCAGTCATTCGACTACACTACTTACCAGTC...                                                                 \n",
       "43  CATTAATAGGCATCCTGCTTTAATTGACTATATAGAAGAACTTATA...                                                                 \n",
       "44  CACGTTTACAGATTTTCCATCTGCATTATTAATAAAAAGAACGATT...                                                                 \n",
       "45  ATTTTAGTGAATTACAACATGTGGATAAAGACGATCAGATCATTAC...                                                                 \n",
       "46  CCGATCTTCCTTAAATAGTTTGATTATGCATTTGGAGAAATTACCT...                                                                 \n",
       "47  TTTGAAGCAGTTATTAATGCGATCGAATTGGAACTAGGACATAAGT...                                                                 \n",
       "48  GTTTGGAGGAAAAAGCAGAAATTGAAAGGGATTCAAACTGGGTTAA...                                                                 \n",
       "49  AGACAATAATGGTTTTCAACCTCCTAAAATAAAACTCACTTCTTTA...                                                                 \n",
       "50  ATTATTCATCAGTTTAGTGAAAAATTAATCAGCGGTGACGACAAAA...                                                                 \n",
       "51             ATGAAGAGGGCGAGAGCATTTTTGGATCTTTGTTTTAA                                                                 "
      ]
     },
     "execution_count": 9,
     "metadata": {},
     "output_type": "execute_result"
    }
   ],
   "source": [
    "df = pd.read_csv(\"Saccharomyces_sequence.txt\")\n",
    "df"
   ]
  },
  {
   "cell_type": "code",
   "execution_count": 11,
   "id": "6217c515",
   "metadata": {},
   "outputs": [],
   "source": [
    " #An introduction to the library and its sources as comments. (10 Points)\n",
    "#Advantages, limitations of using the library also provided as comments (10 Points)\n",
    "#Code to demonstrate calling the library, and use an example dataset to run the library. (30 Points) Here are some datasets you can use if you don’t have one:"
   ]
  },
  {
   "cell_type": "code",
   "execution_count": 20,
   "id": "91a2805a",
   "metadata": {},
   "outputs": [
    {
     "data": {
      "text/plain": [
       "'BioPython was created by a group of developers to create tools for computational molecular biology, for use and manipulation in Python. \\nBioPython provides tools for resuable scripts to analyze datasets in various Bioinformatics file types, such as FASTA, BLAST,etc.\\nThese tools can manipulate file and sequence data as if uploaded as Python strings, dataframes, etc. to be able to produce the \\nresults in whatever way the user needs.'"
      ]
     },
     "execution_count": 20,
     "metadata": {},
     "output_type": "execute_result"
    }
   ],
   "source": [
    "#Question 1\n",
    "'''BioPython was created by a group of developers to create tools for computational molecular biology, for use and manipulation in Python. \n",
    "BioPython provides tools for resuable scripts to analyze datasets in various Bioinformatics file types, such as FASTA, BLAST,etc.\n",
    "These tools can manipulate file and sequence data as if uploaded as Python strings, dataframes, etc. to be able to produce the \n",
    "results in whatever way the user needs.'''"
   ]
  },
  {
   "cell_type": "code",
   "execution_count": 22,
   "id": "aa7d9bef",
   "metadata": {},
   "outputs": [
    {
     "data": {
      "text/plain": [
       "'Advantages: Some advantages of the BioPython library include being an open-source library that is being updated and added to by users, consistently.\\nThe library supports many different file types including FASTA, BLAST, GenBank, and access to online resources such as NCBI, etc. The actual packages can\\nperform computational analysis for sequence and structure analysis, phylogenetics, and population genetics. Tools are also available for performing common \\noperations on sequences, such as translation, transcription and weight calculations. Additionally, the library is fairly easy to use \\nand is built to be accessible for Python users to perform these tasks, without any many learning hurdles. \\nLimitations: While this program does include many beneficial tools, there is a limit to the scope of what it can do, so it is not comprehensive for all that \\ngeneticists may need to perform. While open-source, maintenance and attention may not be directed at certain components of the library, so certain functions may not\\nbe as up to date as others.'"
      ]
     },
     "execution_count": 22,
     "metadata": {},
     "output_type": "execute_result"
    }
   ],
   "source": [
    "#Question 2\n",
    "'''Advantages: Some advantages of the BioPython library include being an open-source library that is being updated and added to by users, consistently.\n",
    "The library supports many different file types including FASTA, BLAST, GenBank, and access to online resources such as NCBI, etc. The actual packages can\n",
    "perform computational analysis for sequence and structure analysis, phylogenetics, and population genetics. Tools are also available for performing common \n",
    "operations on sequences, such as translation, transcription and weight calculations. Additionally, the library is fairly easy to use \n",
    "and is built to be accessible for Python users to perform these tasks, without any many learning hurdles. \n",
    "Limitations: While this program does include many beneficial tools, there is a limit to the scope of what it can do, so it is not comprehensive for all that \n",
    "geneticists may need to perform. While open-source, maintenance and attention may not be directed at certain components of the library, so certain functions may not\n",
    "be as up to date as others.'''"
   ]
  },
  {
   "cell_type": "code",
   "execution_count": 46,
   "id": "5f5c026f",
   "metadata": {},
   "outputs": [
    {
     "name": "stdout",
     "output_type": "stream",
     "text": [
      ">lcl|U49845.1_cds_AAA98665.1_1 [protein=TCP1-beta] [frame=3] [protein_id=AAA98665.1] [location=<1..206] [gbkey=CDS]    CCTATGAGGCATATCCTATCGGAAAACAATACCCCCCAGTGGCAAG...\n",
      "Name: 5, dtype: object\n"
     ]
    }
   ],
   "source": [
    "#Question 3\n",
    "\n",
    "#Printing sequence and information on a certain row:\n",
    "print(df.iloc[5])"
   ]
  },
  {
   "cell_type": "code",
   "execution_count": 47,
   "id": "b43dc052",
   "metadata": {},
   "outputs": [
    {
     "name": "stdout",
     "output_type": "stream",
     "text": [
      "GGATACTCCGTATAGGATAGCCTTTTGTTATGGGGGGTCACCGTTC\n",
      "CTTGCCACTGGGGGGTATTGTTTTCCGATAGGATATGCCTCATAGG\n"
     ]
    }
   ],
   "source": [
    "#Printing the complement and reverse complement of a sequence:\n",
    "from Bio.Seq import Seq\n",
    "my_seq = Seq('CCTATGAGGCATATCCTATCGGAAAACAATACCCCCCAGTGGCAAG')\n",
    "print(my_seq.complement())\n",
    "print(my_seq.reverse_complement())"
   ]
  },
  {
   "cell_type": "code",
   "execution_count": 44,
   "id": "ece5d398",
   "metadata": {},
   "outputs": [
    {
     "name": "stdout",
     "output_type": "stream",
     "text": [
      "ATGGCCATTGTAATGGGCCGCTGAAAGGGTGCCCGATAG\n"
     ]
    }
   ],
   "source": [
    "#Transcription of mRNA\n",
    "messenger_rna = Seq(\"AUGGCCAUUGUAAUGGGCCGCUGAAAGGGUGCCCGAUAG\")\n",
    "messenger_rna\n",
    "print(messenger_rna.back_transcribe())"
   ]
  },
  {
   "cell_type": "code",
   "execution_count": 45,
   "id": "1bac117c",
   "metadata": {},
   "outputs": [
    {
     "name": "stdout",
     "output_type": "stream",
     "text": [
      "MAIVMGR*KGAR*\n"
     ]
    }
   ],
   "source": [
    "#Translation of mRNA to Protein\n",
    "print(messenger_rna.translate())"
   ]
  }
 ],
 "metadata": {
  "kernelspec": {
   "display_name": "Python 3 (ipykernel)",
   "language": "python",
   "name": "python3"
  },
  "language_info": {
   "codemirror_mode": {
    "name": "ipython",
    "version": 3
   },
   "file_extension": ".py",
   "mimetype": "text/x-python",
   "name": "python",
   "nbconvert_exporter": "python",
   "pygments_lexer": "ipython3",
   "version": "3.11.3"
  }
 },
 "nbformat": 4,
 "nbformat_minor": 5
}
